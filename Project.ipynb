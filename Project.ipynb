{
 "cells": [
  {
   "cell_type": "code",
   "execution_count": 1,
   "metadata": {},
   "outputs": [],
   "source": [
    "import pandas as pd\n",
    "import numpy as np\n",
    "import scipy.stats as ss\n",
    "from pandas import DataFrame\n",
    "import matplotlib\n",
    "import matplotlib.pyplot as plt\n",
    "import matplotlib.patches as mpatches\n",
    "from sklearn.preprocessing import LabelEncoder\n",
    "from sklearn.linear_model import LinearRegression\n",
    "from sklearn.linear_model import Ridge\n",
    "from sklearn import metrics"
   ]
  },
  {
   "cell_type": "code",
   "execution_count": 2,
   "metadata": {
    "scrolled": true
   },
   "outputs": [
    {
     "name": "stdout",
     "output_type": "stream",
     "text": [
      "   DateStamp  UniqueComplaintId  Close Year  Received Year  \\\n",
      "0 2017-02-07                  6        2006           2006   \n",
      "1 2017-02-07                 11        2006           2006   \n",
      "2 2017-02-07                 20        2006           2005   \n",
      "3 2017-02-07                 20        2006           2005   \n",
      "4 2017-02-07                 20        2006           2005   \n",
      "\n",
      "  Borough of Occurrence  Is Full Investigation  Complaint Has Video Evidence  \\\n",
      "0              Brooklyn                  False                         False   \n",
      "1                 Bronx                  False                         False   \n",
      "2                 Bronx                  False                         False   \n",
      "3                 Bronx                  False                         False   \n",
      "4                 Bronx                  False                         False   \n",
      "\n",
      "     Complaint Filed Mode Complaint Filed Place  \\\n",
      "0                   Phone                   IAB   \n",
      "1                   Phone                   IAB   \n",
      "2  Call Processing System                  CCRB   \n",
      "3  Call Processing System                  CCRB   \n",
      "4  Call Processing System                  CCRB   \n",
      "\n",
      "   Complaint Contains Stop & Frisk Allegations Incident Location  \\\n",
      "0                                        False    Street/highway   \n",
      "1                                        False    Street/highway   \n",
      "2                                         True    Street/highway   \n",
      "3                                         True    Street/highway   \n",
      "4                                         True    Street/highway   \n",
      "\n",
      "   Incident Year     Encounter Outcome  \\\n",
      "0           2006  No Arrest or Summons   \n",
      "1           2006                Arrest   \n",
      "2           2005  No Arrest or Summons   \n",
      "3           2005  No Arrest or Summons   \n",
      "4           2005  No Arrest or Summons   \n",
      "\n",
      "                     Reason For Initial Contact Allegation FADO Type  \\\n",
      "0  PD suspected C/V of violation/crime - street          Discourtesy   \n",
      "1                                         Other                Force   \n",
      "2                                         Other   Abuse of Authority   \n",
      "3                                         Other   Abuse of Authority   \n",
      "4                                         Other   Abuse of Authority   \n",
      "\n",
      "  Allegation Description  \n",
      "0                 Action  \n",
      "1         Physical force  \n",
      "2         Strip-searched  \n",
      "3    Seizure of property  \n",
      "4     Search (of person)  \n"
     ]
    }
   ],
   "source": [
    "df = pd.read_excel (r'https://www1.nyc.gov/assets/ccrb/downloads/excel/ccrb_datatransparencyinitiative_20170207.xlsx', sheet_name='Complaints_Allegations')\n",
    "print(df.head())"
   ]
  },
  {
   "cell_type": "code",
   "execution_count": 3,
   "metadata": {},
   "outputs": [],
   "source": [
    "df.to_csv('Complains.csv')"
   ]
  },
  {
   "cell_type": "code",
   "execution_count": 97,
   "metadata": {},
   "outputs": [
    {
     "name": "stdout",
     "output_type": "stream",
     "text": [
      "               Complains\n",
      "Incident Year           \n",
      "2013               14815\n",
      "2014               13532\n",
      "2015               12627\n",
      "2016               10304\n"
     ]
    },
    {
     "data": {
      "image/png": "[encoded data removed]",
      "text/plain": [
       "<Figure size 432x288 with 1 Axes>"
      ]
     },
     "metadata": {
      "needs_background": "light"
     },
     "output_type": "display_data"
    }
   ],
   "source": [
    "df2=df\n",
    "df3=df2[df2['Incident Year'] > 2012]\n",
    "df3=df3[df3['Incident Year'] < 2017]\n",
    "\n",
    "dfp=df3.pivot_table('Borough of Occurrence', 'Incident Year', aggfunc='count').fillna(0).astype(int)\n",
    "dfp.columns =['Complains']\n",
    "print(dfp)\n",
    "\n",
    "fig, ax = plt.subplots()\n",
    "ax.plot(dfp, 'bs')\n",
    "\n",
    "ax.set(xlabel='incident year', ylabel='Complains',\n",
    "       title='Complains vs Policemans 2013-2016')\n",
    "ax.grid()\n",
    "fig.savefig(\"Complains.png\")\n",
    "plt.show();"
   ]
  },
  {
   "cell_type": "code",
   "execution_count": 98,
   "metadata": {},
   "outputs": [
    {
     "name": "stdout",
     "output_type": "stream",
     "text": [
      "     Incident Year Borough of Occurrence Incident Location  \\\n",
      "0             2013                 Bronx   Apartment/house   \n",
      "1             2013                 Bronx   Apartment/house   \n",
      "2             2013                 Bronx   Apartment/house   \n",
      "3             2013                 Bronx   Apartment/house   \n",
      "4             2013                 Bronx               Bus   \n",
      "..             ...                   ...               ...   \n",
      "911           2016         Staten Island            School   \n",
      "912           2016         Staten Island    Street/highway   \n",
      "913           2016         Staten Island    Street/highway   \n",
      "914           2016         Staten Island    Street/highway   \n",
      "915           2016         Staten Island    Street/highway   \n",
      "\n",
      "    Allegation FADO Type  Complains  \n",
      "0     Abuse of Authority        313  \n",
      "1            Discourtesy         99  \n",
      "2                  Force        163  \n",
      "3     Offensive Language         11  \n",
      "4     Abuse of Authority          3  \n",
      "..                   ...        ...  \n",
      "911   Offensive Language          1  \n",
      "912   Abuse of Authority        201  \n",
      "913          Discourtesy         32  \n",
      "914                Force         70  \n",
      "915   Offensive Language          5  \n",
      "\n",
      "[916 rows x 5 columns]\n"
     ]
    }
   ],
   "source": [
    "df4=df3[df3['Incident Year'] < 2017]\n",
    "dfp2=df4.pivot_table(index=['Incident Year','Borough of Occurrence', 'Incident Location', 'Allegation FADO Type'], values='DateStamp', aggfunc='count', fill_value=0) \n",
    "dfp2.columns = ['Complains']\n",
    "dfp2.to_csv('Pivot.csv')\n",
    "dfp4 =pd.read_csv('Pivot.csv')\n",
    "print(dfp4)"
   ]
  },
  {
   "cell_type": "code",
   "execution_count": 99,
   "metadata": {},
   "outputs": [
    {
     "data": {
      "text/html": [
       "<div>\n",
       "<style scoped>\n",
       "    .dataframe tbody tr th:only-of-type {\n",
       "        vertical-align: middle;\n",
       "    }\n",
       "\n",
       "    .dataframe tbody tr th {\n",
       "        vertical-align: top;\n",
       "    }\n",
       "\n",
       "    .dataframe thead th {\n",
       "        text-align: right;\n",
       "    }\n",
       "</style>\n",
       "<table border=\"1\" class=\"dataframe\">\n",
       "  <thead>\n",
       "    <tr style=\"text-align: right;\">\n",
       "      <th></th>\n",
       "      <th>Borough of Occurrence</th>\n",
       "      <th>Incident Location</th>\n",
       "      <th>Allegation FADO Type</th>\n",
       "    </tr>\n",
       "  </thead>\n",
       "  <tbody>\n",
       "    <tr>\n",
       "      <td>0</td>\n",
       "      <td>0</td>\n",
       "      <td>0</td>\n",
       "      <td>0</td>\n",
       "    </tr>\n",
       "    <tr>\n",
       "      <td>1</td>\n",
       "      <td>0</td>\n",
       "      <td>0</td>\n",
       "      <td>1</td>\n",
       "    </tr>\n",
       "    <tr>\n",
       "      <td>2</td>\n",
       "      <td>0</td>\n",
       "      <td>0</td>\n",
       "      <td>2</td>\n",
       "    </tr>\n",
       "    <tr>\n",
       "      <td>3</td>\n",
       "      <td>0</td>\n",
       "      <td>0</td>\n",
       "      <td>3</td>\n",
       "    </tr>\n",
       "    <tr>\n",
       "      <td>4</td>\n",
       "      <td>0</td>\n",
       "      <td>1</td>\n",
       "      <td>0</td>\n",
       "    </tr>\n",
       "    <tr>\n",
       "      <td>5</td>\n",
       "      <td>0</td>\n",
       "      <td>1</td>\n",
       "      <td>1</td>\n",
       "    </tr>\n",
       "    <tr>\n",
       "      <td>6</td>\n",
       "      <td>0</td>\n",
       "      <td>1</td>\n",
       "      <td>2</td>\n",
       "    </tr>\n",
       "    <tr>\n",
       "      <td>7</td>\n",
       "      <td>0</td>\n",
       "      <td>2</td>\n",
       "      <td>0</td>\n",
       "    </tr>\n",
       "    <tr>\n",
       "      <td>8</td>\n",
       "      <td>0</td>\n",
       "      <td>2</td>\n",
       "      <td>1</td>\n",
       "    </tr>\n",
       "    <tr>\n",
       "      <td>9</td>\n",
       "      <td>0</td>\n",
       "      <td>2</td>\n",
       "      <td>2</td>\n",
       "    </tr>\n",
       "  </tbody>\n",
       "</table>\n",
       "</div>"
      ],
      "text/plain": [
       "   Borough of Occurrence  Incident Location  Allegation FADO Type\n",
       "0                      0                  0                     0\n",
       "1                      0                  0                     1\n",
       "2                      0                  0                     2\n",
       "3                      0                  0                     3\n",
       "4                      0                  1                     0\n",
       "5                      0                  1                     1\n",
       "6                      0                  1                     2\n",
       "7                      0                  2                     0\n",
       "8                      0                  2                     1\n",
       "9                      0                  2                     2"
      ]
     },
     "execution_count": 99,
     "metadata": {},
     "output_type": "execute_result"
    }
   ],
   "source": [
    "dfp5 = dfp4[dfp4['Incident Year'] < 2016]\n",
    "X = dfp5.drop(\"Complains\", axis=1)\n",
    "y = dfp5['Complains']\n",
    "categorical_feature_mask = X.dtypes==object\n",
    "categorical_cols = X.columns[categorical_feature_mask].tolist()\n",
    "\n",
    "le = LabelEncoder()\n",
    "X[categorical_cols] = X[categorical_cols].apply(lambda col: le.fit_transform(col))\n",
    "X[categorical_cols].head(10)"
   ]
  },
  {
   "cell_type": "code",
   "execution_count": 100,
   "metadata": {},
   "outputs": [
    {
     "data": {
      "text/html": [
       "<div>\n",
       "<style scoped>\n",
       "    .dataframe tbody tr th:only-of-type {\n",
       "        vertical-align: middle;\n",
       "    }\n",
       "\n",
       "    .dataframe tbody tr th {\n",
       "        vertical-align: top;\n",
       "    }\n",
       "\n",
       "    .dataframe thead th {\n",
       "        text-align: right;\n",
       "    }\n",
       "</style>\n",
       "<table border=\"1\" class=\"dataframe\">\n",
       "  <thead>\n",
       "    <tr style=\"text-align: right;\">\n",
       "      <th></th>\n",
       "      <th>Borough of Occurrence</th>\n",
       "      <th>Incident Location</th>\n",
       "      <th>Allegation FADO Type</th>\n",
       "    </tr>\n",
       "  </thead>\n",
       "  <tbody>\n",
       "    <tr>\n",
       "      <td>693</td>\n",
       "      <td>0</td>\n",
       "      <td>0</td>\n",
       "      <td>0</td>\n",
       "    </tr>\n",
       "    <tr>\n",
       "      <td>694</td>\n",
       "      <td>0</td>\n",
       "      <td>0</td>\n",
       "      <td>1</td>\n",
       "    </tr>\n",
       "    <tr>\n",
       "      <td>695</td>\n",
       "      <td>0</td>\n",
       "      <td>0</td>\n",
       "      <td>2</td>\n",
       "    </tr>\n",
       "    <tr>\n",
       "      <td>696</td>\n",
       "      <td>0</td>\n",
       "      <td>0</td>\n",
       "      <td>3</td>\n",
       "    </tr>\n",
       "    <tr>\n",
       "      <td>697</td>\n",
       "      <td>0</td>\n",
       "      <td>1</td>\n",
       "      <td>2</td>\n",
       "    </tr>\n",
       "    <tr>\n",
       "      <td>698</td>\n",
       "      <td>0</td>\n",
       "      <td>2</td>\n",
       "      <td>0</td>\n",
       "    </tr>\n",
       "    <tr>\n",
       "      <td>699</td>\n",
       "      <td>0</td>\n",
       "      <td>2</td>\n",
       "      <td>1</td>\n",
       "    </tr>\n",
       "    <tr>\n",
       "      <td>700</td>\n",
       "      <td>0</td>\n",
       "      <td>2</td>\n",
       "      <td>2</td>\n",
       "    </tr>\n",
       "    <tr>\n",
       "      <td>701</td>\n",
       "      <td>0</td>\n",
       "      <td>2</td>\n",
       "      <td>3</td>\n",
       "    </tr>\n",
       "    <tr>\n",
       "      <td>702</td>\n",
       "      <td>0</td>\n",
       "      <td>3</td>\n",
       "      <td>0</td>\n",
       "    </tr>\n",
       "  </tbody>\n",
       "</table>\n",
       "</div>"
      ],
      "text/plain": [
       "     Borough of Occurrence  Incident Location  Allegation FADO Type\n",
       "693                      0                  0                     0\n",
       "694                      0                  0                     1\n",
       "695                      0                  0                     2\n",
       "696                      0                  0                     3\n",
       "697                      0                  1                     2\n",
       "698                      0                  2                     0\n",
       "699                      0                  2                     1\n",
       "700                      0                  2                     2\n",
       "701                      0                  2                     3\n",
       "702                      0                  3                     0"
      ]
     },
     "execution_count": 100,
     "metadata": {},
     "output_type": "execute_result"
    }
   ],
   "source": [
    "dfp6 = dfp4[dfp4['Incident Year']==2016]\n",
    "Xtest = dfp6.drop(\"Complains\", axis=1)\n",
    "ytest = dfp6['Complains']\n",
    "categorical_feature_mask = Xtest.dtypes==object\n",
    "categorical_cols = Xtest.columns[categorical_feature_mask].tolist()\n",
    "\n",
    "letest = LabelEncoder()\n",
    "Xtest[categorical_cols] = Xtest[categorical_cols].apply(lambda col: letest.fit_transform(col))\n",
    "Xtest[categorical_cols].head(10)"
   ]
  },
  {
   "cell_type": "code",
   "execution_count": 101,
   "metadata": {},
   "outputs": [
    {
     "name": "stdout",
     "output_type": "stream",
     "text": [
      "prediction 11031  - true value 10211\n",
      "raw delta% -8\n",
      "MSE: 12684.903037\n",
      "MAE: 62.096548\n",
      "R^2: 0.093284\n"
     ]
    }
   ],
   "source": [
    "model = LinearRegression()\n",
    "model.fit(X,y)\n",
    "ypred=model.predict(Xtest)\n",
    "print(\"prediction\",int(sum(ypred)),\" - true value\",sum(ytest))\n",
    "print(\"raw delta%\", int(100 * (sum(ytest)-sum(ypred))/sum(ytest)))\n",
    "print('MSE: %f' % metrics.mean_squared_error(ytest, ypred))\n",
    "print('MAE: %f' % metrics.mean_absolute_error(ytest, ypred))\n",
    "print('R^2: %f' % metrics.r2_score(ytest, ypred))"
   ]
  },
  {
   "cell_type": "code",
   "execution_count": 102,
   "metadata": {},
   "outputs": [
    {
     "name": "stdout",
     "output_type": "stream",
     "text": [
      "prediction 11031  - true value 10211\n",
      "raw delta% -8\n",
      "MSE: 12685.075171\n",
      "MAE: 62.097156\n",
      "R^2: 0.093271\n",
      "\n",
      "Ridge and Linear Regressor models are equivalent!\n"
     ]
    }
   ],
   "source": [
    "model = Ridge()\n",
    "model.fit(X,y)\n",
    "ypredridge=model.predict(Xtest)\n",
    "print(\"prediction\",int(sum(ypred)),\" - true value\",sum(ytest))\n",
    "print(\"raw delta%\", int(100 * (sum(ytest)-sum(ypredridge))/sum(ytest)))\n",
    "print('MSE: %f' % metrics.mean_squared_error(ytest, ypredridge))\n",
    "print('MAE: %f' % metrics.mean_absolute_error(ytest, ypredridge))\n",
    "print('R^2: %f' % metrics.r2_score(ytest, ypredridge))\n",
    "print()\n",
    "print('Ridge and Linear Regressor models are equivalent!')\n"
   ]
  },
  {
   "cell_type": "code",
   "execution_count": 103,
   "metadata": {},
   "outputs": [
    {
     "data": {
      "image/png": "[encoded data removed]",
      "text/plain": [
       "<Figure size 432x288 with 1 Axes>"
      ]
     },
     "metadata": {
      "needs_background": "light"
     },
     "output_type": "display_data"
    }
   ],
   "source": [
    "fig, ax = plt.subplots()\n",
    "\n",
    "arr=np.array([2015, 2016, 2017])\n",
    "arr=arr.transpose()\n",
    "\n",
    "ax.plot([2016], sum(ytest), 'bs',  [2016], sum(ypred), 'y^', [2016], sum(ypredridge), 'r^')\n",
    "\n",
    "ax.set(xlabel='incident year', ylabel='Complains',\n",
    "       title='Complains vs Policemans with prediction')\n",
    "ax.set_xticks([2016])\n",
    "\n",
    "ax.grid()\n",
    "fig.savefig(\"Complains_with_2016_prediction.png\")\n",
    "\n",
    "red_patch = mpatches.Patch(color='red', label='predicted data')\n",
    "plt.legend(handles=[red_patch])\n",
    "\n",
    "plt.show()"
   ]
  },
  {
   "cell_type": "code",
   "execution_count": 104,
   "metadata": {},
   "outputs": [],
   "source": [
    "# prediction for 2017\n",
    "X = dfp4.drop(\"Complains\", axis=1)\n",
    "y = dfp4['Complains']\n",
    "categorical_feature_mask = X.dtypes==object\n",
    "categorical_cols = X.columns[categorical_feature_mask].tolist()\n",
    "\n",
    "le = LabelEncoder()\n",
    "X[categorical_cols] = X[categorical_cols].apply(lambda col: le.fit_transform(col))\n",
    "X[categorical_cols].head(10)\n",
    "\n",
    "model = LinearRegression()\n",
    "model.fit(X,y)\n",
    "ypred=model.predict(Xtest)"
   ]
  },
  {
   "cell_type": "code",
   "execution_count": 105,
   "metadata": {},
   "outputs": [
    {
     "name": "stdout",
     "output_type": "stream",
     "text": [
      "               Complains\n",
      "Incident Year           \n",
      "2013               14815\n",
      "2014               13532\n",
      "2015               12627\n",
      "2016               10304\n",
      "2017               10449\n"
     ]
    },
    {
     "data": {
      "image/png": "[encoded data removed]",
      "text/plain": [
       "<Figure size 432x288 with 1 Axes>"
      ]
     },
     "metadata": {
      "needs_background": "light"
     },
     "output_type": "display_data"
    }
   ],
   "source": [
    "dfp2017=dfp\n",
    "Complains2017 =int(sum(ypred))\n",
    "dfp2017.reset_index()\n",
    "dfp2017.loc[2017]= Complains2017\n",
    "print(dfp2017)\n",
    "\n",
    "fig, ax = plt.subplots()\n",
    "ax.plot(dfp2017, 'bs')\n",
    "\n",
    "ax.set(xlabel='incident year', ylabel='Complains',\n",
    "       title='Complains vs Policemans 2013-2016 + 2017 projection')\n",
    "ax.grid()\n",
    "fig.savefig(\"Complains_with_2017_projection.png\")\n",
    "plt.show();"
   ]
  }
 ],
 "metadata": {
  "kernelspec": {
   "display_name": "Python 3",
   "language": "python",
   "name": "python3"
  },
  "language_info": {
   "codemirror_mode": {
    "name": "ipython",
    "version": 3
   },
   "file_extension": ".py",
   "mimetype": "text/x-python",
   "name": "python",
   "nbconvert_exporter": "python",
   "pygments_lexer": "ipython3",
   "version": "3.7.4"
  }
 },
 "nbformat": 4,
 "nbformat_minor": 2
}
